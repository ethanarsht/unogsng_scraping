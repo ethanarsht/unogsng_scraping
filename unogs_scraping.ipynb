{
 "cells": [
  {
   "cell_type": "code",
   "execution_count": 1,
   "metadata": {},
   "outputs": [],
   "source": [
    "import pandas as pd \n",
    "import numpy as np \n",
    "import selenium \n",
    "import time\n",
    "from selenium import webdriver"
   ]
  },
  {
   "cell_type": "code",
   "execution_count": null,
   "metadata": {},
   "outputs": [],
   "source": [
    "driver = webdriver.Chrome()\n",
    "driver.get('https://unogs.com/search/?country_andorunique=or&start_year=1900&end_year=2020&end_rating=10&genrelist=&audiosubtitle_andor=or&countrylist=78')"
   ]
  },
  {
   "cell_type": "code",
   "execution_count": 11,
   "metadata": {},
   "outputs": [
    {
     "output_type": "error",
     "ename": "KeyboardInterrupt",
     "evalue": "",
     "traceback": [
      "\u001b[1;31m---------------------------------------------------------------------------\u001b[0m",
      "\u001b[1;31mKeyboardInterrupt\u001b[0m                         Traceback (most recent call last)",
      "\u001b[1;32m<ipython-input-11-4d3b13833262>\u001b[0m in \u001b[0;36m<module>\u001b[1;34m\u001b[0m\n\u001b[0;32m      9\u001b[0m \u001b[1;33m\u001b[0m\u001b[0m\n\u001b[0;32m     10\u001b[0m     \u001b[1;31m# Wait to load page\u001b[0m\u001b[1;33m\u001b[0m\u001b[1;33m\u001b[0m\u001b[1;33m\u001b[0m\u001b[0m\n\u001b[1;32m---> 11\u001b[1;33m     \u001b[0mtime\u001b[0m\u001b[1;33m.\u001b[0m\u001b[0msleep\u001b[0m\u001b[1;33m(\u001b[0m\u001b[0mSCROLL_PAUSE_TIME\u001b[0m\u001b[1;33m)\u001b[0m\u001b[1;33m\u001b[0m\u001b[1;33m\u001b[0m\u001b[0m\n\u001b[0m\u001b[0;32m     12\u001b[0m \u001b[1;33m\u001b[0m\u001b[0m\n\u001b[0;32m     13\u001b[0m     \u001b[1;31m# Calculate new scroll height and compare with last scroll height\u001b[0m\u001b[1;33m\u001b[0m\u001b[1;33m\u001b[0m\u001b[1;33m\u001b[0m\u001b[0m\n",
      "\u001b[1;31mKeyboardInterrupt\u001b[0m: "
     ]
    }
   ],
   "source": [
    "SCROLL_PAUSE_TIME = 0.5\n",
    "\n",
    "# Get scroll height\n",
    "last_height = driver.execute_script(\"return document.body.scrollHeight\")\n",
    "\n",
    "while True:\n",
    "    # Scroll down to bottom\n",
    "    driver.execute_script(\"window.scrollTo(0, document.body.scrollHeight);\")\n",
    "\n",
    "    # Wait to load page\n",
    "    time.sleep(SCROLL_PAUSE_TIME)\n",
    "\n",
    "    # Calculate new scroll height and compare with last scroll height\n",
    "    new_height = driver.execute_script(\"return document.body.scrollHeight\")\n",
    "    if new_height == last_height:\n",
    "        break\n",
    "    last_height = new_height\n",
    "\n",
    "\n"
   ]
  },
  {
   "cell_type": "code",
   "execution_count": 46,
   "metadata": {},
   "outputs": [],
   "source": [
    "for i in driver.find_elements_by_xpath('//span[@data-bind = \"html:title\"]')[:1]:\n",
    "    i.click()\n",
    "    time.sleep(1)\n",
    "    html = driver.page_source\n",
    "    close_button = driver.find_element_by_css_selector('#titleDetails > div > div > div.modal-header > button')\n",
    "\n",
    "    close_button.click()\n",
    "\n"
   ]
  },
  {
   "cell_type": "code",
   "execution_count": 47,
   "metadata": {},
   "outputs": [
    {
     "output_type": "execute_result",
     "data": {
      "text/plain": "e=\\'--\\'\\n    }\\n    //console.log(self.clist)\\n    self.clist=ko.computed(function(){\\n      var scl=\"\";\\n      if(data.clist){\\n        var cljson=JSON.parse(\\'{\\'+data.clist+\\'}\\')\\n        for(cc in cljson){\\n          var cname=cljson[cc]\\n          if(cc==\\'more\\'){\\n            scl+=cname\\n          }else{\\n            scl+=\"<img width=\\'28\\' alt=\\'flag\\' src=\\'https://cdnjs.cloudflare.com/ajax/libs/flag-icon-css/2.7.0/flags/4x3/\"+cc.toLowerCase()+\".svg\\' title=\\'\"+cname+\"\\' />\"\\n          }\\n        }\\n      }\\n\\n      return scl\\n    })\\n    if(data.expires){\\n      self.titledate=\\'expires on \\'+data.expires\\n    }else if(data.cbdate){\\n      self.titledate=\\'new on \\'+data.cbdate\\n    }else{\\n      self.titledate=\\'globally new on \\'+data.titledate\\n    }\\n\\n    self.itop=ko.computed(function(){\\n      if(self.top250>0){\\n        return \\'movies: \\'+self.top250+\\'/250\\'\\n      }else if(self.top250tv>0){\\n        return \\'tv: \\'+self.top250tv+\\'/250\\'\\n      }else{\\n        return \\'\\'\\n      }\\n    })\\n    return self\\n  }\\n\\n  var Controller = function () {\\n    var self = this;\\n    self.alerts=ko.observableArray([]);\\n    self.parseAlerts=function(ctype){\\n      ko.utils.arrayForEach(self.alerts(), function(alert) {\\n        if(ctype==\\'showalert\\'){\\n          alert.isVisible(true)\\n        }else if(ctype==\\'hidealert\\'){\\n          alert.isVisible(false);\\n        }else{\\n          if(alert.atype()==ctype){\\n            alert.isVisible(false);\\n          }\\n        }\\n      });\\n    }\\n    self.alertsToShow=ko.computed(function(){\\n      //return self.alerts();\\n      if(self.alerts().length>0){\\n        return ko.utils.arrayFilter(self.alerts(),function(alert){\\n          if(alert.isVisible()) return true;\\n        });\\n      }\\n    },self);\\n\\n    this.showAlerts = function(elem) {\\n      //console.log(\\'show fired\\');\\n      if (elem.nodeType === 1) $(elem).hide().fadeIn()\\n    }\\n    this.hideAlerts = function(elem) { if (elem.nodeType === 1) $(elem).fadeOut(function() { $(elem).remove(); }) }\\n    self.atbname=ko.observable(\\'Hide All Alerts\\');\\n    self.toggleAlerts=function(){\\n      self.atbname(\\'Hide All Alerts\\');\\n      self.parseAlerts(\\'hidealert\\')\\n    }\\n\\n    self.addAlert=function(type,message,timeout){\\n      self.alerts.unshift(new alert(type,message,timeout));\\n    }\\n    //self.addAlert(\\'info\\',\\'welcome\\',\\'\\')\\n    self.titems=ko.observableArray()\\n    //handle variables\\n    self.adArray=ko.observableArray()\\n    self.country_andorunique=ko.observable(\\'or\\')\\n    self.newdate=ko.observable(\\'\\')\\n    self.genrelist=ko.observableArray()\\n    self.total=ko.observable(0)\\n    self.elapse=ko.observable(0)\\n    self.qcount=ko.observable(0)\\n    self.isloading=ko.observable(true)\\n    self.netflixid=ko.observable(\\'\\')\\n    self.filmid=ko.observable()\\n    self.searchquerydecoded=ko.observable(decodeURIComponent(\"\"))\\n    self.searchquery=ko.computed(function(){\\n      return encodeURIComponent(self.searchquerydecoded())\\n    })\\n    self.istitlepath=ko.observable(false)\\n    self.iscdetailpath=ko.observable(false)\\n    self.countryList=\\'78\\';\\n    self.cookclist=Cookies.get(\\'countrylist\\')\\n    self.countryArray=ko.observableArray([])\\n    self.fullCArray=ko.observableArray([])\\n    self.allCountries=ko.observableArray()\\n    self.testval=\\'\\'\\n    self.cfc=ko.observable(0)\\n\\n    self.start_year=ko.observable(1900)\\n    self.end_year=ko.observable(2020)\\n    self.audiosubtitle_andor=ko.observable(\\'or\\')\\n    self.start_rating=ko.observable()\\n    self.end_rating=ko.observable(10)\\n    self.orderby=ko.observable(\\'\\')\\n    self.type=ko.observable(\\'\\')\\n    self.filterby=ko.observable(\\'\\')\\n    self.person=ko.observable(\\'\\')\\n    self.audio=ko.observable()\\n    self.subtitle=ko.observable()\\n    self.languageArray=ko.observableArray()\\n    self.typeArray=ko.observableArray([\\'Movie\\',\\'Series\\']);\\n    self.orderbyArray=ko.observableArray([\\'Relevance\\',\\'Date\\',\\'DateAsc\\',\\'Rating\\',\\'Title\\',\\'VideoType\\',\\'FilmYear\\',\\'FilmYearAsc\\',\\'Runtime\\']);\\n    self.filterArray=ko.observableArray([\\'Expiring\\',\\'New last 24 hours\\'])\\n    self.genreArray=ko.observableArray()\\n    self.personArray=ko.observableArray()\\n    if(!self.start_rating()){ self.start_rating(0) }\\n    if(!self.end_rating()){ self.end_rating(10) }\\n    if(!self.start_year()){ self.start_year(1900) }\\n    if(!self.end_year()){ self.end_year(curyear) }\\n    if(!self.audiosubtitle_andor()){ self.audiosubtitle_andor(\\'or\\') }\\n    if(!self.country_andorunique()){ self.country_andorunique(\\'or\\') }\\n\\n    self.changeASAO=function(){\\n      if(self.audiosubtitle_andor()==\\'or\\'){\\n        self.audiosubtitle_andor(\\'and\\')\\n      }else{\\n        self.audiosubtitle_andor(\\'or\\')\\n      }\\n    }\\n    self.changeCAOU=function(that){\\n      if(self.country_andorunique()==\\'or\\'){\\n        self.country_andorunique(\\'and\\')\\n      }else if(self.country_andorunique()==\\'and\\'){\\n        self.country_andorunique(\\'unique\\')\\n      }else{\\n        self.country_andorunique(\\'or\\')\\n      }\\n    }\\n\\n    self.titemscount=ko.computed(function(){\\n      return self.titems().length-1\\n    })\\n    self.offset=ko.computed(function(){\\n      return (limit*self.qcount())\\n    })\\n\\n    self.saveCountries=function(){\\n      console.log(self.countryArray().join(\\',\\'))\\n      Cookies.set(\\'countrylist\\',self.countryArray().join(\\',\\'))\\n      $(\\'#searchForm\\').modal(\\'hide\\')\\n      komodel.addAlert(\\'info\\',\\'Selected Countries Saved!\\',3000)\\n\\n    }\\n\\n    self.clearAllSearch=function(){\\n      //console.log(\\'attempting to clear all variables\\')\\n      self.start_year(1900)\\n      self.end_year(curyear)\\n      self.start_rating(0)\\n      self.end_rating(10)\\n      self.genrelist([])\\n      self.type(\\'\\')\\n      self.audio(\\'\\')\\n      self.subtitle(\\'\\')\\n      self.audiosubtitle_andor(\\'or\\')\\n      self.country_andorunique(\\'or\\')\\n      self.person(\\'\\')\\n      self.orderby(\\'\\')\\n      self.filterby(\\'\\')\\n      self.searchquerydecoded(\\'\\')\\n      self.checkCountries()\\n      self.updatePicker()\\n    }\\n\\n    self.queryString=ko.computed(function(){\\n      sfieldArray=[\\'country_andorunique\\',\\'start_year\\',\\'end_year\\',\\'start_rating\\',\\'end_rating\\',\\'genrelist\\',\\'type\\',\\'audio\\',\\'subtitle\\',\\'audiosubtitle_andor\\',\\'person\\',\\'filterby\\',\\'orderby\\']\\n      qsArray=new Array()\\n      for(i in sfieldArray){\\n        field=sfieldArray[i]\\n        if(self[field]()){\\n          qsArray.push(field+\\'=\\'+self[field]())\\n        }\\n      }\\n      if(self.countryArray().length>0){\\n        qsArray.push(\"countrylist=\"+self.countryArray().join(\\',\\'))\\n      }\\n      return qsArray.join(\\'&\\')\\n    })\\n\\n    self.opt=ko.observable(0)\\n    self.query=ko.computed(function(){\\n      var q=\\'limit=\\'+limit+\\'&offset=\\'+self.offset()\\n      if(path==\\'search\\'){\\n        q+=\"&query=\"+self.searchquery()\\n        q+=\"&countrylist=78\"\\n        q+=\\'&country_andorunique=or\\'\\n        q+=\\'&start_year=1900\\'\\n        q+=\\'&end_year=2020\\'\\n        q+=\\'&start_rating=\\'\\n        q+=\\'&end_rating=10\\'\\n        q+=\\'&genrelist=\\'\\n        q+=\\'&type=\\'\\n        q+=\\'&audio=\\'\\n        q+=\\'&subtitle=\\'\\n        q+=\\'&audiosubtitle_andor=or\\'\\n        q+=\\'&person=\\'\\n        q+=\\'&filterby=\\'\\n        q+=\\'&orderby=\\'\\n        return q\\n      }else{\\n        fpoptions=[\\'top250tv\\',\\'top250\\',\\'new last 3 days\\']\\n        if(self.offset==limit){\\n          self.opt((Math.floor(Math.random() * fpoptions.length) + 1)-1)\\n        }\\n        return q+\"&query=\"+fpoptions[self.opt()]\\n      }\\n    })\\n\\n    self.goBasicSearch=function(){\\n      window.location.replace(\"/search/\"+self.searchquery())\\n    }\\n    self.goAdvancedSearch=function(){\\n      window.location.replace(\"/search/\"+self.searchquery()+\\'?\\'+self.queryString())\\n    }\\n\\n    self.titleIsLoading=ko.observable(false)\\n    self.titleIsLoaded=ko.computed(function(){\\n      if(self.titleIsLoading()){\\n        return false\\n      }else{\\n        return true\\n      }\\n    })\\n\\n    self.openTitle=function(){\\n      self.titlearray([])\\n      self.titleIsLoading(true)\\n      self.path=\"/api/title/detail?netflixid=\"+self.netflixid()\\n      $.get(self.path,function(retjson){\\n        if(retjson.length==1){\\n          self.titletemplate(\\'titleinfo\\')\\n          self.titlearray.push(new titleItem(retjson[0]))\\n        }else{\\n          komodel.addAlert(\\'warning\\',\\'No Title found for id \\'+self.netflixid()+\\'! <a href=\"/search\" class=\"btn btn-primary btn-xs\">Back To Search</a>\\')\\n        }\\n        self.titleIsLoading(false)\\n      })\\n    }\\n\\n    self.openModalTitle=function(that){\\n      self.netflixid(that.netflixid)\\n      $(\\'#titleDetails\\').modal(\\'show\\')\\n      self.titledirectpath(\"Direct Path:<a href=\\'/title/\"+self.netflixid()+\"\\'>/title/\"+self.netflixid()+\"</a>\")\\n      if(self.netflixid()){\\n        self.openTitle()\\n      }\\n    }\\n\\n\\n    self.addTitles=function(){\\n      if(!self.isloading() && self.offset()<self.total()){\\n        self.loadTitles()\\n      }\\n    }\\n\\n    self.vpninfo=new Object;\\n    self.vpnarray=ko.observableArray()\\n    self.buildAds=function(data){\\n      //console.log(data)\\n      for(var adname in data){\\n        if(data[adname].countries.length>0){\\n          self.vpninfo[adname]=data[adname]\\n          self.vpnarray.push(data[adname])\\n        }\\n        for(t in data[adname].templates){\\n          t_obj=data[adname].templates[t]\\n          //console.log(\\'pushing object to adArray:\\'+adname)\\n          self.adArray.push({\"template\":t_obj.ad,\"url\":\\'/ad/\\'+adname,\"img\":t_obj.img})\\n        }\\n      }\\n    }\\n\\n    self.buildCountryArray=function(data){\\n        self.fullCArray(data);\\n        if(self.countryList){\\n          Cookies.set(\\'countrylist\\',self.countryList)\\n        }else if(self.cookclist){\\n          self.countryList=self.cookclist;\\n        }else{\\n          self.countryList=self.fullCArray().join(\\',\\')\\n          Cookies.set(\\'countrylist\\',self.countryList)\\n        }\\n        self.filterCountries(self.allCountries,JSON.parse(\\'[\\'+self.countryList+\\']\\'),self.cfc)\\n    }\\n    self.loadAllCountries=function(data){\\n      for(i in data[\\'results\\']){\\n        self.allCountries.push(new aCountryItem(data[\\'results\\'][i],self))\\n      }\\n    }\\n    self.updatePicker=function(){\\n      //console.log(\\'refreshing select picker\\')\\n      $(\\'.selectpicker\\').selectpicker(\\'refresh\\')\\n    }\\n\\n    self.buildPage=function(ltfunc){\\n      genrelist=\\'\\'\\n\\n\\n      if(genrelist){\\n        $.get(\\'/api/select/genre?id=\\'+genrelist,function(data){\\n          self.genreArray(data)\\n          self.genrelist(genrelist.split(\\',\\'))\\n        })\\n      }\\n\\n      if(self.person()){\\n        self.personArray.push(self.person())\\n      }\\n\\n      $.get(\\'/api/static/all\\',function(data){\\n        //console.log(data.adinfo)\\n        self.buildAds(data.adinfo)\\n        self.loadAllCountries(data.countries)\\n        self.buildCountryArray(data.clist)\\n        self.languageArray(data.languages)\\n        //console.log(data.persons)\\n        //self.personArray(data.persons)\\n        self.audio(\\'\\')\\n        self.subtitle(\\'\\')\\n        //need to process these after the arrays have been built\\n        ltfunc()\\n      })\\n    }\\n\\n    self.vpntitle=ko.observable()\\n    self.vpnselected=ko.observable()\\n    self.vpnFilterMessage=ko.observable()\\n    self.countryFilterMessage=ko.computed(function(){\\n      return \\'Selected \\'+self.countryArray().length+\\'/\\'+self.fullCArray().length+\\' Countries\\'\\n    })\\n    self.showVPN=function(that){\\n      self.vpnselected(that.name)\\n      self.vpntitle(that.title)\\n      self.vpnFilterCountries(self.allCountries,that.countries,self.cfc)\\n    }\\n    self.checkCountries=function(){\\n      self.vpnselected(false)\\n      self.filterCountries(self.allCountries,self.fullCArray(),self.cfc)\\n\\n    }\\n    self.unCheckCountries=function(){\\n      self.vpnselected(false)\\n      self.filterCountries(self.allCountries,[],self.cfc)\\n    }\\n\\n    self.selectVPN=function(that){\\n      if(self.vpnselected()){\\n        self.vpntitle(self.vpninfo[self.vpnselected()].title)\\n        self.vpnFilterCountries(that.countries,self.vpninfo[self.vpnselected()].countries)\\n      }else{\\n        self.vpnFilterCountries(that.countries,self.fullCArray())\\n        self.vpntitle(\\'\\')\\n      }\\n    };\\n    self.vpnfc=ko.observable(0)\\n    self.vpnFilterCountries=function(obsarray,vpnarray){\\n      self.filterCountries(obsarray,vpnarray,self.vpnfc)\\n      if(self.vpnselected()){\\n        self.vpnFilterMessage(\\'filtered \\'+self.vpnfc()+\\'/\\'+obsarray().length+\\' countries for this vpn\\')\\n      }else{\\n        self.vpnFilterMessage(\\'\\')\\n      }\\n    }\\n\\n\\n    self.filterCountries=function(obsarray,clistarray,fc){\\n      fc(0)\\n      ko.utils.arrayForEach(obsarray(),function(item){\\n        if(clistarray.indexOf(item.cid)>=0){\\n          item.isVisible(true)\\n          fc(fc()+1)\\n        }else{\\n          item.isVisible(false)\\n        }\\n      })\\n    }\\n\\n    self.searchbtntxt=ko.observable(\\'Update Countries\\')\\n    self.toggleSearch=function(){\\n      if(self.searchbtntxt()==\\'Update Countries\\'){\\n        self.searchbtntxt(\\'Show Search\\')\\n        $(\\'#countrycollapse\\').collapse(\\'show\\')\\n        $(\\'#searchwell\\').collapse(\\'hide\\')\\n      }else{\\n        self.searchbtntxt(\\'Update Countries\\')\\n        $(\\'#countrycollapse\\').collapse(\\'hide\\')\\n        $(\\'#searchwell\\').collapse(\\'show\\')\\n      }\\n    }\\n\\n    self.loadTitles=function(){\\n      self.addAlert(\\'loading\\',\\'Loading Titles...\\')\\n      self.isloading(true)\\n\\n\\n      $.get(\\'/api/search?\\'+self.query(),function(data){\\n        self.parseAlerts(\\'loading\\')\\n        self.isloading(false)\\n        if(data.total){\\n          self.total(data.total)\\n        }\\n        //console.log(\\'load complete\\')\\n        //console.log(self.adArray())\\n        //console.log(self.adArray().length)\\n        if(self.qcount()==0 && path==\\'search\\'){\\n          if(self.total()==\\'0\\'){\\n            //self.addAlert(\\'danger\\',\\'No titles found for this search, please try again!\\')\\n            self.titems.push(new adItem({\\'template\\':\\'searchResults\\',\\'status\\':Number(self.total())>0 ? \\'info\\' : \\'danger\\'}))\\n            //self.titems.push(new adItem(self.adArray[1]))\\n          }else{\\n            //console.log(\\'should be adding the alert here!\\')\\n            self.titems.push(new adItem({\\'template\\':\\'searchResults\\',\\'status\\':Number(self.total())>0 ? \\'info\\' : \\'danger\\'}))\\n            //self.addAlert(\\'success\\',\"Found \"+self.total()+\" titles matching your search!\",5000)\\n          }\\n        }else if(self.adArray()[self.qcount()] && self.qcount()>0){\\n          self.titems.push(new adItem(self.adArray()[self.qcount()]))\\n        }\\n\\n        self.elapse(data.elapse)\\n        for(i in data.results){\\n          self.titems.push(new tItem(data.results[i]))\\n        }\\n        self.qcount(self.qcount()+1)\\n      })\\n    }\\n\\n    self.openCountryDetails=function(){\\n      self.isloading(false)\\n    }\\n\\n    self.cdclass=ko.observable()\\n    self.srchclass=ko.observable()\\n    self.titletemplate=ko.observable()\\n    self.titledirectpath=ko.observable()\\n    self.titlearray=ko.observableArray()\\n    if(path==\\'cdetail\\'){\\n      self.iscdetailpath(true)\\n      self.buildPage(self.openCountryDetails)\\n      self.cdclass(\\'active\\')\\n    }else if(path==\\'title\\'){\\n      self.isloading(false)\\n      self.titleIsLoading(true)\\n      self.istitlepath(true)\\n      self.buildPage(self.openTitle)\\n    }else{\\n      self.srchclass(\\'active\\')\\n      self.buildPage(self.loadTitles)\\n    }\\n\\n    return self\\n  };\\n  updateToken=function(){\\n    $.post(\\'/api/user\\',\\'user_name=\\'+(new Date() / 1000),function(result){\\n      Cookies.set(\\'authtoken\\',result[\\'token\\'][\\'access_token\\'])\\n      //console.log(result)\\n      window.location.replace(window.location.href)\\n    }).fail(function(){\\n      //console.log(\\'failed user get\\')\\n    });\\n  }\\n\\n  if(Cookies.get(\\'authtoken\\')){\\n    $.get(\\'/api/user\\',function(data){\\n      if(data.user){\\n        komodel = new Controller();\\n        ko.applyBindings(komodel);\\n      }else{\\n        updateToken()\\n      }\\n    }).fail(function(){\\n      updateToken()\\n    })\\n  }else{\\n    updateToken()\\n  }\\n\\n  //if($(window).scrollTop()==0){\\n  //  $(\"html, body\").animate({ scrollTop: 500}, 600);\\n  //}\\n\\n      $(document).on( \\'scroll\\', function(){\\n          if ($(window).scrollTop() > 100) {\\n              $(\\'.scroll-top-wrapper\\').addClass(\\'show\\');\\n          } else {\\n              $(\\'.scroll-top-wrapper\\').removeClass(\\'show\\');\\n          }\\n      });\\n\\n      $(\\'.scroll-top-wrapper\\').on(\\'click\\', scrollToTop);\\n\\n  function scrollToTop() {\\n    $(\"html, body\").animate({ scrollTop: 0 }, \"slow\");\\n  }\\n});\\n</script>\\n<script type=\"text/html\" id=\"searchResults\"></script>\\n<script type=\"text/html\" id=\"titlepageobject\">\\n  <object data-bind=\"attr:{data: titleobjectpath}\" width=\"100%\" height=\"100%\" type=\"text/html\"></object>\\n</script>\\n<script type=\"text/html\" id=\"titlediv\"></script>\\n<script type=\"text/html\" id=\"titleitem\"></script>\\n<script type=\"text/html\" id=\"country\"></script>\\n<script type=\"text/html\" id=\"seasonlist\"></script>\\n<script type=\"text/html\" id=\"titleinfo\"></script>\\n\\n<script type=\"text/html\" id=\"alertmsg\"></script>\\n<script type=\"text/html\" id=\"basicAd\"></script>\\n<script type=\"text/html\" id=\"expressAd\"></script>\\n\\n<!-- FOOTER -->\\n<footer class=\"footer\">\\n<div class=\"container\">\\n<br>\\n      <!-- Three columns of text below the carousel -->\\n      <div class=\"row\">\\n        <div class=\"col-sm-3\">\\n        <p>Special Thanks To:<br>\\n<!--<a href=\\'https://www.IconDrawer.com\\' target=_blank>www.IconDrawer.com</a><br>-->\\n<a href=\"https://www.omdbapi.com/\" target=\"_blank\">www.omdapi.com</a><br>\\n<a href=\"http://flag-icon-css.lip.is/\" target=\"_blank\">flag-icon-css.lip.is</a>\\n        </p>\\n        </div>\\n        <div class=\"col-sm-3  hidden-xs hidden-sm\">\\n        <p>Site Map:<br>\\n<a href=\"/\">Home</a><br>\\n<a href=\"/search/new last 24 hours\">What\\'s New</a><br>\\n<a href=\"https://forum.unogs.com/topic/170/tos\">Terms of Service</a><br>\\n<a href=\"https://forum.unogs.com\">uNoGS Forum</a><br>\\n<a href=\"https://rapidapi.com/unogs/api/unogsng\" target=\"_blank\">uNoGS Netflix API</a>\\n        </p>\\n        </div><!-- /.col-lg-4 -->\\n        <div class=\"col-sm-3  hidden-xs hidden-sm\">\\n        <p>VPN Providers:<br>\\n        <a target=\"_blank\" href=\"https://unogs.com/ad/expressvpn\">Express VPN</a><br>\\n        <a href=\"\\\\&quot;https://get.surfshark.net/aff_c?offer_id=6&amp;aff_id=1114&amp;url_id=78\\\\&quot;\" target=\"\\\\&quot;_blank\\\\&quot;\">SurfShark</a><br>\\n        <a target=\"_blank\" href=\"https://www.getflix.com.au/affiliates//affiliate.php?id=1956_0_1_17\">GETFLIX</a><br>\\n        <a target=\"_blank\" href=\"https://go.nordvpn.net/aff_c?offer_id=15&amp;aff_id=1322&amp;url_id=22\">NordVPN</a><br>\\n        <a target=\"_blank\" href=\"https://billing.purevpn.com/aff.php?aff=15055\">Pure VPN</a><br>\\n        </p><div class=\"col-sm-3 hidden-xs hidden-sm\">\\n        <p>Contact:<br>\\n<a title=\"Send us an email!\" href=\"mailto:admin@unogs.com\">admin@unogs.com</a><br>\\n<a href=\"https://www.reddit.com/message/compose/?to=unogs\" title=\"Contact on reddit!\" onclick=\"window.location = \" www.reddit.com=\"\" submit?url=\" + encodeURIComponent(window.location); return false\"> <img src=\"//www.redditstatic.com/spreddit5.gif\" alt=\"submit to reddit\" border=\"0\"> </a>\\n<a style=\"margin-top:3px\" class=\"btn btn-sm btn-primary\" href=\"https://paypal.me/unogs\" target=\"_blank\">Donate!</a><br>\\n        </p>\\n        </div><!-- /.col-lg-4 -->\\n      </div><!-- /.row -->\\n\\t<div class=\"container\" style=\"text-align:center\">unofficial Netflix online Global Search 2020</div>\\n    </div>\\n\\n</div></footer>\\n\\n\\n<div class=\"modal-backdrop fade in\"></div></body></html>'"
     },
     "metadata": {},
     "execution_count": 47
    }
   ],
   "source": [
    "html"
   ]
  },
  {
   "cell_type": "code",
   "execution_count": null,
   "metadata": {},
   "outputs": [],
   "source": []
  }
 ],
 "metadata": {
  "language_info": {
   "codemirror_mode": {
    "name": "ipython",
    "version": 3
   },
   "file_extension": ".py",
   "mimetype": "text/x-python",
   "name": "python",
   "nbconvert_exporter": "python",
   "pygments_lexer": "ipython3",
   "version": "3.7.6-final"
  },
  "orig_nbformat": 2,
  "kernelspec": {
   "name": "python3",
   "display_name": "Python 3"
  }
 },
 "nbformat": 4,
 "nbformat_minor": 2
}